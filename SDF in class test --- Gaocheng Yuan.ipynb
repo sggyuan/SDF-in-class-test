{
 "cells": [
  {
   "cell_type": "code",
   "execution_count": 1,
   "id": "b1da470a",
   "metadata": {},
   "outputs": [],
   "source": [
    "import yfinance as yf\n",
    "import numpy as np\n",
    "import pandas as pd\n",
    "import matplotlib.pyplot as plt"
   ]
  },
  {
   "cell_type": "code",
   "execution_count": 2,
   "id": "56bfac11",
   "metadata": {},
   "outputs": [
    {
     "name": "stdout",
     "output_type": "stream",
     "text": [
      "[*********************100%%**********************]  1 of 1 completed\n"
     ]
    },
    {
     "data": {
      "text/plain": [
       "Date\n",
       "2015-01-01     44.057095\n",
       "2015-02-01     49.720020\n",
       "2015-03-01     48.254974\n",
       "2015-04-01     52.693047\n",
       "2015-05-01     55.527767\n",
       "2015-06-01     55.509274\n",
       "2015-07-01     54.079651\n",
       "2015-08-01     49.376095\n",
       "2015-09-01     49.487530\n",
       "2015-10-01     43.891930\n",
       "2015-11-01     45.179283\n",
       "2015-12-01     45.515743\n",
       "2016-01-01     45.092049\n",
       "2016-02-01     45.454906\n",
       "2016-03-01     51.338268\n",
       "2016-04-01     49.901924\n",
       "2016-05-01     51.779102\n",
       "2016-06-01     52.302631\n",
       "2016-07-01     56.402561\n",
       "2016-08-01     57.523117\n",
       "2016-09-01     57.586510\n",
       "2016-10-01     54.713848\n",
       "2016-11-01     56.237465\n",
       "2016-12-01     56.184246\n",
       "2017-01-01     58.135998\n",
       "2017-02-01     58.218479\n",
       "2017-03-01     56.952866\n",
       "2017-04-01     58.601742\n",
       "2017-05-01     65.046951\n",
       "2017-06-01     66.049889\n",
       "2017-07-01     67.590088\n",
       "2017-08-01     69.070152\n",
       "2017-09-01     66.183968\n",
       "2017-10-01     66.939247\n",
       "2017-11-01     75.049286\n",
       "2017-12-01     73.654007\n",
       "2018-01-01     76.343498\n",
       "2018-02-01     73.446434\n",
       "2018-03-01     77.186790\n",
       "2018-04-01     78.972984\n",
       "2018-05-01     73.741348\n",
       "2018-06-01     71.228249\n",
       "2018-07-01     72.202621\n",
       "2018-08-01     79.123283\n",
       "2018-09-01     83.139435\n",
       "2018-10-01     82.682159\n",
       "2018-11-01     84.337456\n",
       "2018-12-01     84.412270\n",
       "2019-01-01     86.304016\n",
       "2019-02-01     86.781532\n",
       "2019-03-01     92.068993\n",
       "2019-04-01     96.293770\n",
       "2019-05-01     94.411987\n",
       "2019-06-01    102.514374\n",
       "2019-07-01    104.228043\n",
       "2019-08-01    108.174110\n",
       "2019-09-01    105.451462\n",
       "2019-10-01     94.555832\n",
       "2019-11-01     93.588989\n",
       "2019-12-01     94.047501\n",
       "Name: Adj Close, dtype: float64"
      ]
     },
     "execution_count": 2,
     "metadata": {},
     "output_type": "execute_result"
    }
   ],
   "source": [
    "# question1-1 Download the monthly stock price data for 'YUM'\n",
    "stock_ticker = 'YUM'\n",
    "start_date = '2015-01-01'\n",
    "end_date = '2019-12-31'\n",
    "stock_data = yf.download(stock_ticker, start=start_date, end=end_date, interval='1mo')\n",
    "stock_data = stock_data.dropna()\n",
    "stock_data['Adj Close']"
   ]
  },
  {
   "cell_type": "code",
   "execution_count": 3,
   "id": "e959e01e",
   "metadata": {},
   "outputs": [
    {
     "name": "stdout",
     "output_type": "stream",
     "text": [
      "Annualized Return: 15.42%\n"
     ]
    }
   ],
   "source": [
    "#question1-2 Calculate monthly logarithmic returns\n",
    "stock_data['Log_Returns'] = np.log(stock_data['Adj Close'] / stock_data['Adj Close'].shift(1))\n",
    "stock_data['Log_Returns']\n",
    "# Calculate annualized return\n",
    "annualized_return = stock_data['Log_Returns'].mean() * 12\n",
    "print(f'Annualized Return: {annualized_return * 100:.2f}%')"
   ]
  },
  {
   "cell_type": "code",
   "execution_count": 4,
   "id": "dbb708e0",
   "metadata": {},
   "outputs": [
    {
     "name": "stdout",
     "output_type": "stream",
     "text": [
      "Annualized Volatility: 17.49%\n"
     ]
    }
   ],
   "source": [
    "#question1-3 Calculate annualized volatility\n",
    "annualized_volatility = stock_data['Log_Returns'].std() * np.sqrt(12)\n",
    "print(f'Annualized Volatility: {annualized_volatility * 100:.2f}%')"
   ]
  },
  {
   "cell_type": "code",
   "execution_count": 5,
   "id": "3e2fe45b",
   "metadata": {},
   "outputs": [
    {
     "data": {
      "text/plain": [
       "Date\n",
       "2015-01-01    58.00\n",
       "2015-02-01    58.00\n",
       "2015-03-01    59.00\n",
       "2015-04-01    59.00\n",
       "2015-05-01    59.00\n",
       "2015-06-01    57.00\n",
       "2015-07-01    57.00\n",
       "2015-08-01    57.00\n",
       "2015-09-01    57.00\n",
       "2015-10-01    57.00\n",
       "2015-11-01    57.00\n",
       "2015-12-01    57.00\n",
       "2016-01-01    57.42\n",
       "2016-02-01    57.72\n",
       "2016-03-01    57.72\n",
       "2016-04-01    55.42\n",
       "2016-05-01    55.42\n",
       "2016-06-01    55.68\n",
       "2016-07-01    55.68\n",
       "2016-08-01    53.97\n",
       "2016-09-01    53.97\n",
       "2016-10-01    53.97\n",
       "2016-11-01    53.97\n",
       "2016-12-01    53.97\n",
       "2017-01-01    53.97\n",
       "2017-02-01    53.97\n",
       "2017-03-01    53.97\n",
       "2017-04-01    53.97\n",
       "2017-05-01    53.47\n",
       "2017-06-01    53.47\n",
       "2017-07-01    53.47\n",
       "2017-08-01    53.97\n",
       "2017-09-01    53.97\n",
       "2017-10-01    53.58\n",
       "2017-11-01    52.77\n",
       "2017-12-01    52.77\n",
       "2018-01-01    52.77\n",
       "2018-02-01    52.77\n",
       "2018-03-01    53.69\n",
       "2018-04-01    53.32\n",
       "2018-05-01    53.32\n",
       "2018-06-01    53.32\n",
       "2018-07-01    53.32\n",
       "2018-08-01    53.32\n",
       "2018-09-01    53.32\n",
       "2018-10-01    53.32\n",
       "2018-11-01    57.70\n",
       "2018-12-01    57.96\n",
       "2019-01-01    57.96\n",
       "2019-02-01    57.96\n",
       "2019-03-01    58.36\n",
       "2019-04-01    58.36\n",
       "2019-05-01    58.36\n",
       "2019-06-01    58.36\n",
       "2019-07-01    58.36\n",
       "2019-08-01    58.36\n",
       "2019-09-01    58.36\n",
       "2019-10-01    58.36\n",
       "2019-11-01    58.56\n",
       "2019-12-01    57.07\n",
       "Name: Total-Score, dtype: float64"
      ]
     },
     "execution_count": 5,
     "metadata": {},
     "output_type": "execute_result"
    }
   ],
   "source": [
    "#question1-4 Download the ESG data\n",
    "import yesg\n",
    "ESG = yesg.get_historic_esg(stock_ticker)\n",
    "# Fill missing values\n",
    "ESG.fillna(method='ffill', inplace=True)\n",
    "# Merge with stock data (same timeline)\n",
    "merged_data = pd.merge(stock_data, ESG, on='Date')\n",
    "# Get the ESG total score for 'YUM'\n",
    "ESG_data = merged_data['Total-Score']\n",
    "ESG_data"
   ]
  },
  {
   "cell_type": "code",
   "execution_count": 6,
   "id": "5502a6fe",
   "metadata": {},
   "outputs": [
    {
     "data": {
      "text/plain": [
       "<Axes: xlabel='Date'>"
      ]
     },
     "execution_count": 6,
     "metadata": {},
     "output_type": "execute_result"
    },
    {
     "data": {
      "image/png": "[encoded data removed]",
      "text/plain": [
       "<Figure size 1000x300 with 1 Axes>"
      ]
     },
     "metadata": {},
     "output_type": "display_data"
    }
   ],
   "source": [
    "# Plotting the ESG data\n",
    "ESG_data.plot(figsize=(10, 3))"
   ]
  },
  {
   "cell_type": "code",
   "execution_count": 7,
   "id": "af970dba",
   "metadata": {},
   "outputs": [
    {
     "name": "stdout",
     "output_type": "stream",
     "text": [
      "correlation: 0.14\n"
     ]
    }
   ],
   "source": [
    "#question1-5 Calculate the correlation coefficient\n",
    "correlation = merged_data['Adj Close'].corr(merged_data['Total-Score'])\n",
    "print(f'correlation: {correlation:.2f}')"
   ]
  },
  {
   "cell_type": "code",
   "execution_count": 8,
   "id": "d21811a4",
   "metadata": {},
   "outputs": [],
   "source": [
    "### Question 2\n",
    "import numpy as np\n",
    "from datetime import datetime\n",
    "import matplotlib.pyplot as plt\n",
    "from meteostat import Point, Daily"
   ]
  },
  {
   "cell_type": "code",
   "execution_count": 9,
   "id": "d7de8ca4",
   "metadata": {},
   "outputs": [
    {
     "data": {
      "text/plain": [
       "264.1"
      ]
     },
     "execution_count": 9,
     "metadata": {},
     "output_type": "execute_result"
    }
   ],
   "source": [
    "# the month of my birth\n",
    "start = datetime(2022, 6, 1)\n",
    "end = datetime(2022, 6, 30)\n",
    "#The geographical coordinates (latitude, longitude, and altitude) for Shanghai\n",
    "location = Point(31.2304, 121.4737, 4)\n",
    "# download the daliy data of Shanghai\n",
    "data = Daily(location, start, end)\n",
    "data = data.fetch()\n",
    "# Calculate the cdd\n",
    "T_base = 18\n",
    "cdds = [max(temp - T_base, 0) for temp in data.tavg]\n",
    "total_cdd = sum(cdds)\n",
    "total_cdd"
   ]
  }
 ],
 "metadata": {
  "kernelspec": {
   "display_name": "Python 3 (ipykernel)",
   "language": "python",
   "name": "python3"
  },
  "language_info": {
   "codemirror_mode": {
    "name": "ipython",
    "version": 3
   },
   "file_extension": ".py",
   "mimetype": "text/x-python",
   "name": "python",
   "nbconvert_exporter": "python",
   "pygments_lexer": "ipython3",
   "version": "3.11.5"
  }
 },
 "nbformat": 4,
 "nbformat_minor": 5
}
